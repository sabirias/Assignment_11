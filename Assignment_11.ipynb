{
 "cells": [
  {
   "cell_type": "code",
   "execution_count": null,
   "id": "3ef7b122-8e35-4b9a-8884-dd41b2805a2e",
   "metadata": {},
   "outputs": [],
   "source": [
    "Q1) Which function is used to open a file? What are the different modes of opening a file? Explain each mode \n",
    "    of file opening. in python"
   ]
  },
  {
   "cell_type": "raw",
   "id": "777f1ecd-ffcb-4bfb-94fb-e25ec6c7bf1a",
   "metadata": {},
   "source": [
    "ANS:- In Python, the \"open()\" function is used to interact with files. It allows you to create, read, update, and delete files. The        \"open()\" function takes two parameters: the FILENAME and the MODE. Let's delve into the different modes for opening files:\n",
    "\n",
    "1. Read Mode (\"r\"):\n",
    "    * Default mode.\n",
    "    * Opens a file for reading.\n",
    "    * Raises an error if the file does not exist.\n",
    "    * Example: f = open(\"myfile.txt\", \"r\")\n",
    "\n",
    "2. Append Mode (\"a\"):\n",
    "    * Opens a file for APPENDING data.\n",
    "    * Creates the file if it doesn't exist.\n",
    "    * Example: f = open(\"myfile.txt\", \"a\")\n",
    "\n",
    "3. Write Mode (\"w\"):\n",
    "    * Opens a file for WRITING.\n",
    "    * Creates the file if it doesn't exist.\n",
    "    * Overwrites the existing content.\n",
    "    * Example: f = open(\"myfile.txt\", \"w\")\n",
    "\n",
    "4. Create Mode (\"x\"):\n",
    "    * Creates the specified file.\n",
    "    * Returns an error if the file already exists.\n",
    "    * Example: f = open(\"newfile.txt\", \"x\")\n",
    "\n",
    "5. Binary Mode (\"b\"):\n",
    "\n",
    "    * Used for binary files (e.g., images).\n",
    "    * Example: f = open(\"image.jpg\", \"rb\")\n",
    "\n",
    "6. Text Mode (\"t\"):\n",
    "    * Default mode for text files.\n",
    "    * Example: f = open(\"textfile.txt\", \"rt\")\n",
    "\n",
    "7. Update Mode (\"+\"):\n",
    "    * Combines with other modes (e.g., \"r+\", \"w+\", \"a+\").\n",
    "    * Allows both reading and writing.\n",
    "    * Example: f = open(\"data.txt\", \"r+\")"
   ]
  },
  {
   "cell_type": "code",
   "execution_count": null,
   "id": "f3733bd4-cf96-41f1-9180-755599f2e336",
   "metadata": {},
   "outputs": [],
   "source": [
    "Q2. Why close() function is used? Why is it important to close a file?"
   ]
  },
  {
   "cell_type": "raw",
   "id": "1fc27deb-52c3-43a6-a280-6be52aa028b9",
   "metadata": {},
   "source": [
    "ANS:- The \"close()\" function in Python is used to \"close an open file\". Let's explore why it's important to close files:\n",
    "\n",
    "1. Resource Management:\n",
    "    - When you open a file using \"open()\", the operating system allocates resources (such as memory) to handle the file.\n",
    "    - Failing to close the file leaves these resources tied up, potentially causing memory leaks or other issues.\n",
    "    - By calling \"close()\", you release these resources back to the system.\n",
    "\n",
    "2. Data Consistency:\n",
    "    - When writing to a file, data is often buffered in memory before being physically written to the file.\n",
    "    - If you don't close the file, the buffered data may not be written completely, leading to incomplete or corrupted files.\n",
    "    - Closing the file ensures that all data is flushed and written properly.\n",
    "\n",
    "3. File Locking:\n",
    "    - Some operating systems lock files while they are open.\n",
    "    - If you don't close the file, other processes or programs may be unable to access or modify it.\n",
    "    - Properly closing the file releases the lock.\n",
    "\n",
    "4. Good Practice:\n",
    "    - Explicitly closing files is considered good programming practice.\n",
    "    - It makes your code more robust and easier to maintain.\n",
    "    - It also helps prevent unexpected behavior in complex programs.\n",
    "\n",
    "Remember to \"always close files after\" you're done reading from or writing to them. It's a small but crucial step in ensuring efficient and reliable file handling."
   ]
  },
  {
   "cell_type": "code",
   "execution_count": null,
   "id": "adbd68cc-c2ef-4c8d-ad89-833505b4cc78",
   "metadata": {},
   "outputs": [],
   "source": [
    "Q3. Write a python program to create a text file. Write ‘I want to become a Data Scientist’ in that file. Then \n",
    "    close the file. Open this file and read the content of the file. "
   ]
  },
  {
   "cell_type": "code",
   "execution_count": 12,
   "id": "9f8e251c-6834-4b8e-a869-05a9be50d33f",
   "metadata": {},
   "outputs": [
    {
     "name": "stdout",
     "output_type": "stream",
     "text": [
      "I want to become a Data Scientist\n"
     ]
    }
   ],
   "source": [
    "import logging\n",
    "\n",
    "# Create a logging file\n",
    "logging.basicConfig(filename=\"textfile.log\", level=logging.INFO, format='%(asctime)s %(message)s')\n",
    "\n",
    "try:\n",
    "    # Create a text file and write content to it\n",
    "    with open(\"textfile.txt\", \"w\") as file:\n",
    "        file.write(\"I want to become a Data Scientist\")\n",
    "        logging.info(\"File created and content written successfully.\")\n",
    "except OSError:\n",
    "    logging.error(\"Error creating or writing to the file.\")\n",
    "\n",
    "try:\n",
    "    # Now let's read the content from the file\n",
    "    with open(\"textfile.txt\", \"r\") as file:\n",
    "        content = file.read()\n",
    "        logging.info(\"Content of the file:\\n\" + content)  # Print the content to the log\n",
    "        print(content)  # Also print the content to the console\n",
    "except FileNotFoundError:\n",
    "    logging.error(\"File not found.\")\n",
    "\n",
    "# Shutting down the logging function\n",
    "logging.shutdown()"
   ]
  },
  {
   "cell_type": "code",
   "execution_count": null,
   "id": "723abed2-cdc0-4cf7-ac0c-42933c4bd84a",
   "metadata": {},
   "outputs": [],
   "source": [
    "Q4. Explain the following with python code: read(), readline() and readlines()."
   ]
  },
  {
   "cell_type": "raw",
   "id": "9dbffbc6-3076-40bd-bbdb-d74217fae2c2",
   "metadata": {},
   "source": [
    "ANS:- The differences between 'read()', 'readline()', and 'readlines()' in Python when it comes to reading content from files:\n",
    "\n",
    "1. read():\n",
    "    - The 'read()' method reads the \"entire file\" at once and returns its content as a single string.\n",
    "    - Useful when you want to process the entire file content as a whole.\n",
    "    - Example:\n",
    "        with open(\"example.txt\") as f:\n",
    "            content = f.read()\n",
    "            print(content)\n",
    "\n",
    "2. readline():\n",
    "    - The 'readline()' method reads \"one line\" from the file (up to and including the newline character).\n",
    "    - Useful for reading files line by line or checking specific lines.\n",
    "    - Example:\n",
    "        with open(\"example.txt\") as f:\n",
    "            line = f.readline()\n",
    "            print(line)\n",
    "\n",
    "3. readlines():\n",
    "    - The 'readlines()' method reads \"all lines\" from the file and returns them as a list of strings.\n",
    "    - Each element in the list represents a single line.\n",
    "    - Useful when you want to process individual lines or extract specific lines.\n",
    "    - Example:\n",
    "        with open(\"example.txt\") as f:\n",
    "            lines = f.readlines()\n",
    "            for line in lines:\n",
    "                print(line)"
   ]
  },
  {
   "cell_type": "code",
   "execution_count": null,
   "id": "23988a40-7f96-411a-ac3a-e4964b0010db",
   "metadata": {},
   "outputs": [],
   "source": [
    "Q5. Explain why with statement is used with open(). What is the advantage of using with statement and \n",
    "    open() together?"
   ]
  },
  {
   "cell_type": "raw",
   "id": "36f97e83-c045-4d5e-b9fe-2cfdeda49cd6",
   "metadata": {},
   "source": [
    "ANS:- The 'with' statement in Python is used in conjunction with the 'open()' function for file handling.\n",
    "      \n",
    "Advantages:\n",
    "\n",
    "1. Resource Management:\n",
    "    - The primary advantage of using the 'with' statement is 'automatic resource management'.\n",
    "    - When you open a file using 'with', it automatically takes care of closing the file when you're done with it.\n",
    "    - No need to explicitly call 'file.close()'. The file is closed automatically when the block of code exits.\n",
    "\n",
    "2. Context Management:\n",
    "    - The 'with' statement establishes a 'context' for the file operations.\n",
    "    - It ensures that any setup or teardown actions (like opening and closing the file) are handled correctly.\n",
    "    - The context is created when entering the `with` block and destroyed when exiting it.\n",
    "\n",
    "3. Cleaner Code:\n",
    "    - Using 'with' makes your code 'cleaner and more readable'.\n",
    "    - It clearly indicates the scope where the file is being used.\n",
    "    - No need to worry about forgetting to close the file.\n",
    "\n",
    "4. Exception Safety:\n",
    "    - If an exception occurs within the `with` block, the file is still properly closed.\n",
    "    - This ensures 'exception safety' and prevents resource leaks.\n",
    "\n",
    "5. Example:\n",
    "    # Without 'with' statement\n",
    "    file = open(\"myfile.txt\", \"r\")\n",
    "    content = file.read()\n",
    "    file.close()\n",
    "\n",
    "    # With 'with' statement\n",
    "    with open(\"myfile.txt\", \"r\") as file:\n",
    "        content = file.read()\n",
    "    # File is automatically closed when exiting the 'with' block\n",
    "\n",
    "    # More concise and safer!\n",
    "\n",
    "Using `with` and `open()` together simplifies file handling, improves code quality,\n",
    "and ensures proper resource management."
   ]
  },
  {
   "cell_type": "code",
   "execution_count": null,
   "id": "c282782a-ad8f-4c46-8c24-52b759e32222",
   "metadata": {},
   "outputs": [],
   "source": [
    "Q6. Explain the write() and writelines() functions. Give a suitable example."
   ]
  },
  {
   "cell_type": "raw",
   "id": "217d72e2-4e9b-4827-b117-2b7103c8ccd5",
   "metadata": {},
   "source": [
    "ANS:- The 'write()' and 'writelines()' functions in Python for writing data to files:\n",
    "\n",
    "1. write():\n",
    "    - The 'write()' function is used to \"insert a string\" into a file.\n",
    "    - It writes the specified content as a \"single line\" in the text file.\n",
    "    - The string passed to 'write()' is directly written into the opened file.\n",
    "    - Note that the 'write()' function \"does not add a newline character (`\\n`)\" to the end of the string.\n",
    "    - Exmple:\n",
    "        with open(\"mytextfile.txt\", \"w\") as file:\n",
    "            file.write(\"Hello, write() function!\\n\")\n",
    "\n",
    "2. writelines():\n",
    "    - The 'writelines()' function writes the content of a \"list of strings\" to a file.\n",
    "    - Each string in the list is inserted into the text file.\n",
    "    - Similar to 'write()', 'writelines()' \"does not add newline characters\" to the end of the strings.\n",
    "    - Example:\n",
    "        with open(\"mytextfile.txt\", \"w\") as file:\n",
    "            lines = [\"Line 1\\n\", \"Line 2\\n\", \"Line 3\\n\"]\n",
    "            file.writelines(lines)\n",
    "\n",
    "- Use 'write()' for inserting a single string.\n",
    "- Use 'writelines()' to write multiple strings from a list."
   ]
  }
 ],
 "metadata": {
  "kernelspec": {
   "display_name": "Python 3 (ipykernel)",
   "language": "python",
   "name": "python3"
  },
  "language_info": {
   "codemirror_mode": {
    "name": "ipython",
    "version": 3
   },
   "file_extension": ".py",
   "mimetype": "text/x-python",
   "name": "python",
   "nbconvert_exporter": "python",
   "pygments_lexer": "ipython3",
   "version": "3.12.0"
  }
 },
 "nbformat": 4,
 "nbformat_minor": 5
}
